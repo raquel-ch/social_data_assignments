{
 "cells": [
  {
   "cell_type": "markdown",
   "metadata": {},
   "source": [
    "# Assignment 1\n",
    "\n",
    "## Formalia:\n",
    "\n",
    "Please read the [assignment overview page](https://github.com/suneman/socialdata2025/wiki/Assignments) carefully before proceeding. This page contains information about formatting (including formats etc.), group sizes, and many other aspects of handing in the assignment. \n",
    "\n",
    "_If you fail to follow these simple instructions, it will negatively impact your grade!_\n",
    "\n",
    "**Due date and time**: The assignment is due on Monday March 3rd, 2025 at 23:55. Hand in your files via DTU Learn. "
   ]
  },
  {
   "cell_type": "markdown",
   "metadata": {},
   "source": [
    "## Part 1\n",
    "\n",
    "From week 1's exercise, I'd like you to complete the \"*Exercise 3*: Temporal patterns\". The one where the main plot is the year-by-year evolution of the 10 focus crimes.\n",
    "\n",
    "**IMPORTANT**: FOR THIS AND ALL SUBSEQUENT EXERCISES, I WANT YOU TO USE THE FULL DATASET FROM 2003 TO 2025."
   ]
  },
  {
   "cell_type": "markdown",
   "metadata": {},
   "source": [
    "## Part 2\n",
    "\n",
    "Next, I would like you to answer some of the questions related to the videos shown during week 2. Specifically, I would like you to\n",
    "\n",
    "* Answer questions related to the main video-lecture on Data Visualization. (Where the first question is \"What is the difference between *data* and *metadata*?\")\n",
    "* Answer questions related to the video on \"Nice plots\". That is, generate the list of 10 rules for nice plots.\n"
   ]
  },
  {
   "cell_type": "markdown",
   "metadata": {},
   "source": [
    "## Part 3\n",
    "\n",
    "We stay with week 2. I would also like you to complete the exercise in Week 2, Part 4, entitled \"*Exercise*: Other cool ways to plot temporal data\" (the one where we explore alternatives to bar-plots, such as calendar plots, for plotting temporal data).\n",
    "\n",
    "In the exercise, i ask you to explore 3 different types of plots. For this assignment, you only need to do a calendar and polar bar chart.\n"
   ]
  },
  {
   "cell_type": "markdown",
   "metadata": {},
   "source": [
    "## Part 4\n",
    "\n",
    "From week 3, I'd like you to work on the exercise contained in Week 3, Part 3. Specifically, I would like you to **both** complete \"*Excercise Part 1*: Connecting the dots and recreating plots from DAOST but using our own favorite dataset\" and \"*Excercise Part 2*\". These exercises focus on reproducing figure 2.1, 2.4 and 2.11 and exploring a few more ideas from the book using data from SFPD.\n"
   ]
  },
  {
   "cell_type": "markdown",
   "metadata": {},
   "source": [
    "## Part 5\n",
    "\n",
    "Finally, I'd like you to work on the exercise \"*Exercise*: Using all the tools to understand the temporal trends of prostitution in SF over time\" in Week 4, Part 3. "
   ]
  }
 ],
 "metadata": {
  "kernelspec": {
   "display_name": "Python 3 (ipykernel)",
   "language": "python",
   "name": "python3"
  },
  "language_info": {
   "codemirror_mode": {
    "name": "ipython",
    "version": 3
   },
   "file_extension": ".py",
   "mimetype": "text/x-python",
   "name": "python",
   "nbconvert_exporter": "python",
   "pygments_lexer": "ipython3",
   "version": "3.9.19"
  }
 },
 "nbformat": 4,
 "nbformat_minor": 4
}
