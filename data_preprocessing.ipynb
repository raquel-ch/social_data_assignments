{
 "cells": [
  {
   "cell_type": "markdown",
   "metadata": {},
   "source": [
    "# Data preprocessing"
   ]
  },
  {
   "cell_type": "code",
   "execution_count": 2,
   "metadata": {},
   "outputs": [],
   "source": [
    "import pandas as pd\n",
    "import numpy as np\n",
    "import matplotlib.pyplot as plt\n",
    "\n",
    "# read the two files in data\n",
    "data = pd.read_csv('../data/Police_Department_Incident_Reports__Historical_2003_to_May_2018_20250204.csv')\n",
    "data2 = pd.read_csv('../data/Police_Department_Incident_Reports__2018_to_Present_20250204.csv')"
   ]
  },
  {
   "cell_type": "code",
   "execution_count": 5,
   "metadata": {},
   "outputs": [
    {
     "name": "stdout",
     "output_type": "stream",
     "text": [
      "RAW DATA 2003-2018\n",
      "Index(['PdId', 'IncidntNum', 'Incident Code', 'Category', 'Descript',\n",
      "       'DayOfWeek', 'Date', 'Time', 'PdDistrict', 'Resolution', 'Address', 'X',\n",
      "       'Y', 'location', 'SF Find Neighborhoods 2 2',\n",
      "       'Current Police Districts 2 2', 'Current Supervisor Districts 2 2',\n",
      "       'Analysis Neighborhoods 2 2', 'DELETE - Fire Prevention Districts 2 2',\n",
      "       'DELETE - Police Districts 2 2', 'DELETE - Supervisor Districts 2 2',\n",
      "       'DELETE - Zip Codes 2 2', 'DELETE - Neighborhoods 2 2',\n",
      "       'DELETE - 2017 Fix It Zones 2 2',\n",
      "       'Civic Center Harm Reduction Project Boundary 2 2',\n",
      "       'Fix It Zones as of 2017-11-06  2 2', 'DELETE - HSOC Zones 2 2',\n",
      "       'Fix It Zones as of 2018-02-07 2 2',\n",
      "       'CBD, BID and GBD Boundaries as of 2017 2 2',\n",
      "       'Areas of Vulnerability, 2016 2 2',\n",
      "       'Central Market/Tenderloin Boundary 2 2',\n",
      "       'Central Market/Tenderloin Boundary Polygon - Updated 2 2',\n",
      "       'HSOC Zones as of 2018-06-05 2 2', 'OWED Public Spaces 2 2',\n",
      "       'Neighborhoods 2'],\n",
      "      dtype='object')\n",
      "\n",
      "AFTER DELETED COLUMNS 2003-2018\n",
      "Index(['IncidntNum', 'Incident Code', 'Category', 'Descript', 'DayOfWeek',\n",
      "       'Date', 'Time', 'PdDistrict', 'Resolution', 'Address', 'X', 'Y',\n",
      "       'location', 'SF Find Neighborhoods 2 2', 'Current Police Districts 2 2',\n",
      "       'Current Supervisor Districts 2 2'],\n",
      "      dtype='object')\n",
      "\n",
      "AFTER RENAMED COLUMNS 2003-2018\n",
      "Index(['Incident Number', 'Incident Code', 'Incident Category',\n",
      "       'Incident Description', 'Incident Day of Week', 'Incident Date',\n",
      "       'Incident Time', 'Police District', 'Resolution', 'Address',\n",
      "       'Longitude', 'Latitude', 'Point', 'Neighborhoods',\n",
      "       'Current Police Districts', 'Current Supervisor Districts'],\n",
      "      dtype='object')\n"
     ]
    }
   ],
   "source": [
    "# CLEAN FILE 2003-2018\n",
    "\n",
    "#print column names of data\n",
    "print('RAW DATA 2003-2018')\n",
    "print(data.columns)\n",
    "\n",
    "# Drop not relevant columns in the dataframe\n",
    "columns_to_drop = ['PdId',\n",
    "       'Analysis Neighborhoods 2 2', 'DELETE - Fire Prevention Districts 2 2',\n",
    "       'DELETE - Police Districts 2 2', 'DELETE - Supervisor Districts 2 2',\n",
    "       'DELETE - Zip Codes 2 2', 'DELETE - Neighborhoods 2 2',\n",
    "       'DELETE - 2017 Fix It Zones 2 2',\n",
    "       'Civic Center Harm Reduction Project Boundary 2 2',\n",
    "       'Fix It Zones as of 2017-11-06  2 2', 'DELETE - HSOC Zones 2 2',\n",
    "       'Fix It Zones as of 2018-02-07 2 2',\n",
    "       'CBD, BID and GBD Boundaries as of 2017 2 2',\n",
    "       'Areas of Vulnerability, 2016 2 2',\n",
    "       'Central Market/Tenderloin Boundary 2 2',\n",
    "       'Central Market/Tenderloin Boundary Polygon - Updated 2 2',\n",
    "       'HSOC Zones as of 2018-06-05 2 2', 'OWED Public Spaces 2 2',\n",
    "       'Neighborhoods 2']\n",
    "\n",
    "existing_columns_to_drop = [col for col in columns_to_drop if col in data.columns]\n",
    "data_clean = data.drop(columns=existing_columns_to_drop)\n",
    "\n",
    "print('\\nAFTER DELETED COLUMNS 2003-2018')\n",
    "print(data_clean.columns)\n",
    "\n",
    "# change column names\n",
    "data_clean = data_clean.rename(columns={'IncidntNum': 'Incident Number'})\n",
    "data_clean = data_clean.rename(columns={'Category': 'Incident Category'})\n",
    "data_clean = data_clean.rename(columns={'Descript': 'Incident Description'})\n",
    "data_clean = data_clean.rename(columns={'DayOfWeek': 'Incident Day of Week'})\n",
    "data_clean = data_clean.rename(columns={'Date': 'Incident Date'})\n",
    "data_clean = data_clean.rename(columns={'Time': 'Incident Time'})\n",
    "data_clean = data_clean.rename(columns={'PdDistrict': 'Police District'})\n",
    "data_clean = data_clean.rename(columns={'location': 'Point'})\n",
    "data_clean = data_clean.rename(columns={'SF Find Neighborhoods 2 2': 'Neighborhoods'})\n",
    "data_clean = data_clean.rename(columns={'Current Police Districts 2 2': 'Current Police Districts'})\n",
    "data_clean = data_clean.rename(columns={'Current Supervisor Districts 2 2': 'Current Supervisor Districts'})\n",
    "data_clean = data_clean.rename(columns={'Y': 'Latitude'})\n",
    "data_clean = data_clean.rename(columns={'X': 'Longitude'})\n",
    "\n",
    "print('\\nAFTER RENAMED COLUMNS 2003-2018')\n",
    "print(data_clean.columns)\n",
    "\n",
    "\n",
    "# COLUMN NAMES: \n",
    "# 'Incident Date' (ok), 'Incident Time' (ok), 'Incident Day of Week' (ok), \n",
    "# 'Incident Number' (ok)\n",
    "# 'Incident Code' (ok), 'Incident Category' (ok), 'Incident Description' (ok), 'Resolution' (ok)\n",
    "# 'Address' (ok), Police District (ok) \n",
    "# Y (ok), X (ok), Point (ok), Neighborhoods(ok)\n",
    "# 'Current Supervisor Districts', 'Current Police Districts'"
   ]
  },
  {
   "cell_type": "code",
   "execution_count": null,
   "metadata": {},
   "outputs": [
    {
     "name": "stdout",
     "output_type": "stream",
     "text": [
      "RAW DATA 2018-2025\n",
      "Index(['Incident Datetime', 'Incident Date', 'Incident Time', 'Incident Year',\n",
      "       'Incident Day of Week', 'Report Datetime', 'Row ID', 'Incident ID',\n",
      "       'Incident Number', 'CAD Number', 'Report Type Code',\n",
      "       'Report Type Description', 'Filed Online', 'Incident Code',\n",
      "       'Incident Category', 'Incident Subcategory', 'Incident Description',\n",
      "       'Resolution', 'Intersection', 'CNN', 'Police District',\n",
      "       'Analysis Neighborhood', 'Supervisor District',\n",
      "       'Supervisor District 2012', 'Latitude', 'Longitude', 'Point',\n",
      "       'Neighborhoods', 'ESNCAG - Boundary File',\n",
      "       'Central Market/Tenderloin Boundary Polygon - Updated',\n",
      "       'Civic Center Harm Reduction Project Boundary',\n",
      "       'HSOC Zones as of 2018-06-05', 'Invest In Neighborhoods (IIN) Areas',\n",
      "       'Current Supervisor Districts', 'Current Police Districts'],\n",
      "      dtype='object')\n",
      "\n",
      "AFTER DELETED COLUMNS 2018-2025\n",
      "Index(['Incident Date', 'Incident Time', 'Incident Day of Week',\n",
      "       'Incident Number', 'Incident Code', 'Incident Category',\n",
      "       'Incident Description', 'Resolution', 'Intersection', 'Police District',\n",
      "       'Latitude', 'Longitude', 'Point', 'Neighborhoods',\n",
      "       'Current Supervisor Districts', 'Current Police Districts'],\n",
      "      dtype='object')\n",
      "\n",
      "AFTER RENAMED COLUMNS 2018-2025\n",
      "Index(['Incident Date', 'Incident Time', 'Incident Day of Week',\n",
      "       'Incident Number', 'Incident Code', 'Incident Category',\n",
      "       'Incident Description', 'Resolution', 'Address', 'Police District',\n",
      "       'Latitude', 'Longitude', 'Point', 'Neighborhoods',\n",
      "       'Current Supervisor Districts', 'Current Police Districts'],\n",
      "      dtype='object')\n"
     ]
    }
   ],
   "source": [
    "# CLEAN FILE 2018-2025 - data2\n",
    "\n",
    "#print column names of data\n",
    "print('RAW DATA 2018-2025')\n",
    "print(data2.columns)\n",
    "\n",
    "# Drop columns that exist in the dataframe\n",
    "columns_to_drop = ['Incident Year', 'Incident Datetime', 'Report Datetime', 'Row ID', 'Incident ID', 'CAD Number', 'Report Type Code', \n",
    "                   'Report Type Description', 'Incident Subcategory', 'Filed Online', 'CNN', 'Supervisor District', 'Supervisor District 2012','ESNCAG - Boundary File',\n",
    "                   'Central Market/Tenderloin Boundary Polygon - Updated', 'Civic Center Harm Reduction Project Boundary', \n",
    "                   'HSOC Zones as of 2018-06-05', 'Invest In Neighborhoods (IIN) Areas', 'Analysis Neighborhood']\n",
    "\n",
    "existing_columns_to_drop = [col for col in columns_to_drop if col in data2.columns]\n",
    "data2_clean = data2.drop(columns=existing_columns_to_drop)\n",
    "\n",
    "print('\\nAFTER DELETED COLUMNS 2018-2025')\n",
    "print(data2_clean.columns)\n",
    "\n",
    "data2_clean = data2_clean.rename(columns={'Intersection': 'Address'})\n",
    "\n",
    "print('\\nAFTER RENAMED COLUMNS 2018-2025')\n",
    "print(data2_clean.columns)\n",
    "\n",
    "\n",
    "# COLUMN NAMES: \n",
    "# 'Incident Date', 'Incident Time', 'Incident Day of Week', \n",
    "# 'Incident Number'\n",
    "# 'Incident Code', 'Incident Category', 'Incident Description', 'Resolution'\n",
    "# 'Address', 'Police District',\n",
    "# Y, X, Point, Neighborhoods\n",
    "# 'Current Supervisor Districts', 'Current Police Districts'"
   ]
  },
  {
   "cell_type": "code",
   "execution_count": null,
   "metadata": {},
   "outputs": [
    {
     "name": "stdout",
     "output_type": "stream",
     "text": [
      "The columns in both dataframes are the same.\n"
     ]
    }
   ],
   "source": [
    "# see if the columns are the same in the two dataframes\n",
    "\n",
    "if set(data_clean.columns) == set(data2_clean.columns):\n",
    "    print(\"The columns in both dataframes are the same.\")\n",
    "else:\n",
    "    print(\"The columns in the dataframes are different.\")"
   ]
  },
  {
   "cell_type": "code",
   "execution_count": 10,
   "metadata": {},
   "outputs": [],
   "source": [
    "# convert dates to the same format\n",
    "\n",
    "# Function to parse dates with different formats\n",
    "def parse_dates(date_str):\n",
    "    for fmt in ('%Y/%m/%d', '%m/%d/%Y'):\n",
    "        try:\n",
    "            return pd.to_datetime(date_str, format=fmt)\n",
    "        except ValueError:\n",
    "            continue\n",
    "    return pd.NaT\n",
    "\n",
    "# Apply the date parsing function to both dataframes\n",
    "data_clean['Incident Date'] = data_clean['Incident Date'].apply(parse_dates)\n",
    "data2_clean['Incident Date'] = data2_clean['Incident Date'].apply(parse_dates)\n",
    "\n",
    "# Ensure all dates are in a consistent format (e.g., YYYY-MM-DD)\n",
    "data_clean['Incident Date'] = data_clean['Incident Date'].dt.strftime('%Y-%m-%d')\n",
    "data2_clean['Incident Date'] = data2_clean['Incident Date'].dt.strftime('%Y-%m-%d')\n",
    "\n",
    "# Convert 'Incident Date' back to datetime format to ensure consistency\n",
    "data_clean['Incident Date'] = pd.to_datetime(data_clean['Incident Date'])\n",
    "data2_clean['Incident Date'] = pd.to_datetime(data2_clean['Incident Date'])"
   ]
  },
  {
   "cell_type": "code",
   "execution_count": 11,
   "metadata": {},
   "outputs": [],
   "source": [
    "# merge the two dataframes\n",
    "data_final = pd.concat([data_clean, data2_clean], ignore_index=True)"
   ]
  },
  {
   "cell_type": "code",
   "execution_count": 13,
   "metadata": {},
   "outputs": [
    {
     "name": "stdout",
     "output_type": "stream",
     "text": [
      "\n",
      "\n",
      "\n",
      "NUMBER OF ROWS IN FINAL DATAFRAME: \n",
      "3058280\n",
      "3058280\n",
      "ok!\n"
     ]
    }
   ],
   "source": [
    "# print number of rows\n",
    "print('\\n\\n')\n",
    "print('NUMBER OF ROWS IN FINAL DATAFRAME: ')\n",
    "print(data_final.shape[0])\n",
    "print(data_clean.shape[0]+data2_clean.shape[0])\n",
    "print('ok!')"
   ]
  },
  {
   "cell_type": "code",
   "execution_count": 14,
   "metadata": {},
   "outputs": [
    {
     "name": "stdout",
     "output_type": "stream",
     "text": [
      "\n",
      "\n",
      "\n",
      "NUMBER OF ROWS IN FINAL DATAFRAME: \n",
      "2983961\n"
     ]
    }
   ],
   "source": [
    "# convert pertinent columns to upper case\n",
    "data_final['Incident Category'] = data_final['Incident Category'].str.upper()\n",
    "data_final['Incident Description'] = data_final['Incident Description'].str.upper()\n",
    "data_final['Police District'] = data_final['Police District'].str.upper()\n",
    "\n",
    "# drop columns with nans in any row\n",
    "data_final = data_final.dropna()\n",
    "\n",
    "# print number of rows\n",
    "print('\\n\\n')\n",
    "print('NUMBER OF ROWS IN FINAL DATAFRAME: ')\n",
    "print(data_final.shape[0])"
   ]
  },
  {
   "cell_type": "code",
   "execution_count": 15,
   "metadata": {},
   "outputs": [],
   "source": [
    "# merge crimes of the same category\n",
    "\n",
    "# LARCENY THEFT -> LARCENY/THEFT\n",
    "data_final['Incident Category'] = data_final['Incident Category'].replace('LARCENY THEFT', 'LARCENY/THEFT')\n",
    "\n",
    "# MOTOR VEHICLE THEFT? --> VEHICLE THEFT\n",
    "data_final['Incident Category'] = data_final['Incident Category'].replace('MOTOR VEHICLE THEFT', 'VEHICLE THEFT')\n",
    "\n",
    "#  MOTOR VEHICLE THEFT --> VEHICLE THEFT\n",
    "data_final['Incident Category'] = data_final['Incident Category'].replace('MOTOR VEHICLE THEFT', 'VEHICLE THEFT')\n",
    "\n",
    "# WEAPONS OFFENSE --> WEAPON LAWS\n",
    "data_final['Incident Category'] = data_final['Incident Category'].replace('WEAPONS OFFENSE', 'WEAPON LAWS')\n",
    "\n",
    "# WEAPONS CARRYING ETC --> WEAPON LAWS\n",
    "data_final['Incident Category'] = data_final['Incident Category'].replace('WEAPONS CARRYING ETC', 'WEAPON LAWS')\n",
    "\n",
    "# WEAPONS OFFENCE --> WEAPON LAWS\n",
    "data_final['Incident Category'] = data_final['Incident Category'].replace('WEAPONS OFFENCE', 'WEAPON LAWS')\n",
    "\n",
    "# Malicious Mischief --> VANDALISM\n",
    "data_final['Incident Category'] = data_final['Incident Category'].replace('MALICIOUS MISCHIEF', 'VANDALISM')\n",
    "\n",
    "# Liquor Laws --> DRUNKENNESS\n",
    "data_final['Incident Category'] = data_final['Incident Category'].replace('LIQUOR LAWS', 'DRUNKENNESS')\n",
    "\n",
    "# Drug Violation --> DRUG/NARCOTIC\n",
    "data_final['Incident Category'] = data_final['Incident Category'].replace('DRUG VIOLATION', 'DRUG/NARCOTIC')\n",
    "\n",
    "# Drug Offense --> DRUG/NARCOTIC\n",
    "data_final['Incident Category'] = data_final['Incident Category'].replace('DRUG OFFENSE', 'DRUG/NARCOTIC')"
   ]
  },
  {
   "cell_type": "code",
   "execution_count": 16,
   "metadata": {},
   "outputs": [
    {
     "name": "stdout",
     "output_type": "stream",
     "text": [
      "\n",
      "\n",
      "\n",
      "NUMBER OF ROWS IN FINAL DATAFRAME: \n",
      "2983961\n"
     ]
    }
   ],
   "source": [
    "# print number of rows\n",
    "print('\\n\\n')\n",
    "print('NUMBER OF ROWS IN FINAL DATAFRAME: ')\n",
    "print(data_final.shape[0])"
   ]
  },
  {
   "cell_type": "code",
   "execution_count": 17,
   "metadata": {},
   "outputs": [],
   "source": [
    "# save final dataframe to csv\n",
    "# data_final.to_csv('../data/police_incidents.csv', index=False)"
   ]
  }
 ],
 "metadata": {
  "kernelspec": {
   "display_name": "social_data",
   "language": "python",
   "name": "python3"
  },
  "language_info": {
   "codemirror_mode": {
    "name": "ipython",
    "version": 3
   },
   "file_extension": ".py",
   "mimetype": "text/x-python",
   "name": "python",
   "nbconvert_exporter": "python",
   "pygments_lexer": "ipython3",
   "version": "3.13.2"
  }
 },
 "nbformat": 4,
 "nbformat_minor": 2
}
