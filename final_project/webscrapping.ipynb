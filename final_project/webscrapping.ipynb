{
 "cells": [
  {
   "cell_type": "markdown",
   "id": "45bbb081",
   "metadata": {},
   "source": [
    "To obtain the data with the rent prices, we will do web-scrapping from Idealista, a real estate platform that operates primarily in Spain. By scraping data from Idealista, we can access up-to-date information on rental prices across different regions."
   ]
  },
  {
   "cell_type": "code",
   "execution_count": 3,
   "id": "7f5ef230",
   "metadata": {},
   "outputs": [],
   "source": [
    "import requests\n",
    "from bs4 import BeautifulSoup\n",
    "import pandas as pd\n",
    "\n",
    "def extraer_precios_ciudad(url, ciudad):\n",
    "    \"\"\"\n",
    "    Extrae los precios históricos de alquiler por m² para una ciudad desde Idealista.\n",
    "    \n",
    "    Parámetros:\n",
    "        url (str): URL de la ciudad en Idealista.\n",
    "        ciudad (str): Nombre de la ciudad (para incluir en el DataFrame).\n",
    "\n",
    "    Retorna:\n",
    "        pandas.DataFrame: con columnas ['fecha', 'precio', 'ciudad']\n",
    "    \"\"\"\n",
    "    headers = {\n",
    "    \"User-Agent\": \"Mozilla/5.0 (Windows NT 10.0; Win64; x64) AppleWebKit/537.36 (KHTML, like Gecko) Chrome/122.0.0.0 Safari/537.36\",\n",
    "    \"Accept-Language\": \"es-ES,es;q=0.9\",\n",
    "    \"Referer\": \"https://www.google.com/\",\n",
    "    \"Accept\": \"text/html,application/xhtml+xml,application/xml;q=0.9,image/webp,*/*;q=0.8\",\n",
    "    \"Connection\": \"keep-alive\"\n",
    "}\n",
    "\n",
    "    \n",
    "    response = requests.get(url, headers=headers)\n",
    "    if response.status_code != 200:\n",
    "        raise Exception(f\"Error al acceder a la página: {response.status_code}\")\n",
    "    \n",
    "    soup = BeautifulSoup(response.content, \"html.parser\")\n",
    "    rows = soup.select(\"tr.table__row\")\n",
    "\n",
    "    datos = []\n",
    "    for row in rows:\n",
    "        cells = row.find_all(\"td\")\n",
    "        if len(cells) >= 2:\n",
    "            fecha = cells[0].get_text(strip=True)\n",
    "            precio_valor = float(cells[1]['data-sortable'].replace(',', '.'))\n",
    "            datos.append({\n",
    "                \"fecha\": fecha,\n",
    "                \"precio\": precio_valor,\n",
    "                \"ciudad\": ciudad\n",
    "            })\n",
    "\n",
    "    return pd.DataFrame(datos)\n"
   ]
  },
  {
   "cell_type": "code",
   "execution_count": 4,
   "id": "7c85aa4d",
   "metadata": {},
   "outputs": [
    {
     "ename": "Exception",
     "evalue": "Error al acceder a la página: 403",
     "output_type": "error",
     "traceback": [
      "\u001b[0;31m---------------------------------------------------------------------------\u001b[0m",
      "\u001b[0;31mException\u001b[0m                                 Traceback (most recent call last)",
      "Cell \u001b[0;32mIn[4], line 2\u001b[0m\n\u001b[1;32m      1\u001b[0m url \u001b[38;5;241m=\u001b[39m \u001b[38;5;124m\"\u001b[39m\u001b[38;5;124mhttps://www.idealista.com/sala-de-prensa/informes-precio-vivienda/alquiler/cataluna/barcelona-provincia/barcelona/historico/\u001b[39m\u001b[38;5;124m\"\u001b[39m\n\u001b[0;32m----> 2\u001b[0m df_barcelona \u001b[38;5;241m=\u001b[39m \u001b[43mextraer_precios_ciudad\u001b[49m\u001b[43m(\u001b[49m\u001b[43murl\u001b[49m\u001b[43m,\u001b[49m\u001b[43m \u001b[49m\u001b[38;5;124;43m\"\u001b[39;49m\u001b[38;5;124;43mBarcelona\u001b[39;49m\u001b[38;5;124;43m\"\u001b[39;49m\u001b[43m)\u001b[49m\n\u001b[1;32m      4\u001b[0m \u001b[38;5;28mprint\u001b[39m(df_barcelona\u001b[38;5;241m.\u001b[39mhead())\n",
      "Cell \u001b[0;32mIn[3], line 27\u001b[0m, in \u001b[0;36mextraer_precios_ciudad\u001b[0;34m(url, ciudad)\u001b[0m\n\u001b[1;32m     25\u001b[0m response \u001b[38;5;241m=\u001b[39m requests\u001b[38;5;241m.\u001b[39mget(url, headers\u001b[38;5;241m=\u001b[39mheaders)\n\u001b[1;32m     26\u001b[0m \u001b[38;5;28;01mif\u001b[39;00m response\u001b[38;5;241m.\u001b[39mstatus_code \u001b[38;5;241m!=\u001b[39m \u001b[38;5;241m200\u001b[39m:\n\u001b[0;32m---> 27\u001b[0m     \u001b[38;5;28;01mraise\u001b[39;00m \u001b[38;5;167;01mException\u001b[39;00m(\u001b[38;5;124mf\u001b[39m\u001b[38;5;124m\"\u001b[39m\u001b[38;5;124mError al acceder a la página: \u001b[39m\u001b[38;5;132;01m{\u001b[39;00mresponse\u001b[38;5;241m.\u001b[39mstatus_code\u001b[38;5;132;01m}\u001b[39;00m\u001b[38;5;124m\"\u001b[39m)\n\u001b[1;32m     29\u001b[0m soup \u001b[38;5;241m=\u001b[39m BeautifulSoup(response\u001b[38;5;241m.\u001b[39mcontent, \u001b[38;5;124m\"\u001b[39m\u001b[38;5;124mhtml.parser\u001b[39m\u001b[38;5;124m\"\u001b[39m)\n\u001b[1;32m     30\u001b[0m rows \u001b[38;5;241m=\u001b[39m soup\u001b[38;5;241m.\u001b[39mselect(\u001b[38;5;124m\"\u001b[39m\u001b[38;5;124mtr.table__row\u001b[39m\u001b[38;5;124m\"\u001b[39m)\n",
      "\u001b[0;31mException\u001b[0m: Error al acceder a la página: 403"
     ]
    }
   ],
   "source": [
    "url = \"https://www.idealista.com/sala-de-prensa/informes-precio-vivienda/alquiler/cataluna/barcelona-provincia/barcelona/historico/\"\n",
    "df_barcelona = extraer_precios_ciudad(url, \"Barcelona\")\n",
    "\n",
    "print(df_barcelona.head())\n"
   ]
  },
  {
   "cell_type": "code",
   "execution_count": 9,
   "id": "53baaf54",
   "metadata": {},
   "outputs": [],
   "source": [
    "from selenium import webdriver\n",
    "from selenium.webdriver.chrome.options import Options\n",
    "from selenium.webdriver.common.by import By\n",
    "from selenium.webdriver.support.ui import WebDriverWait\n",
    "from selenium.webdriver.support import expected_conditions as EC\n",
    "import pandas as pd\n",
    "\n",
    "def extraer_precios_con_selenium(url, ciudad):\n",
    "    \"\"\"\n",
    "    Extrae precios de alquiler por m² desde una URL de Idealista usando Selenium.\n",
    "    Muestra el navegador y permite inspección visual si algo falla.\n",
    "    \"\"\"\n",
    "    options = Options()\n",
    "    # No usamos modo headless para poder ver lo que ve el navegador\n",
    "    # options.add_argument(\"--headless\")  # Comentado para depurar\n",
    "\n",
    "    options.add_argument(\"--no-sandbox\")\n",
    "    options.add_argument(\"--disable-dev-shm-usage\")\n",
    "    \n",
    "    driver = webdriver.Chrome(options=options)\n",
    "    driver.get(url)\n",
    "\n",
    "    try:\n",
    "        WebDriverWait(driver, 20).until(\n",
    "            EC.presence_of_element_located((By.CSS_SELECTOR, \"tr.table__row\"))\n",
    "        )\n",
    "    except:\n",
    "        print(\"⚠️ No se encontró la tabla dentro del tiempo de espera.\")\n",
    "        input(\"👁 Pulsa Enter para cerrar el navegador...\")\n",
    "        driver.quit()\n",
    "        return pd.DataFrame(columns=[\"fecha\", \"precio\", \"ciudad\"])\n",
    "\n",
    "    filas = driver.find_elements(By.CSS_SELECTOR, \"tr.table__row\")\n",
    "    print(f\"✅ Filas encontradas: {len(filas)}\")\n",
    "\n",
    "    datos = []\n",
    "\n",
    "    for fila in filas:\n",
    "        celdas = fila.find_elements(By.TAG_NAME, \"td\")\n",
    "        if len(celdas) >= 2:\n",
    "            fecha = celdas[0].text.strip()\n",
    "            precio_texto = celdas[1].text.strip().replace(\" €/m2\", \"\").replace(\",\", \".\")\n",
    "            try:\n",
    "                precio = float(precio_texto)\n",
    "                datos.append({\n",
    "                    \"fecha\": fecha,\n",
    "                    \"precio\": precio,\n",
    "                    \"ciudad\": ciudad\n",
    "                })\n",
    "            except ValueError:\n",
    "                continue\n",
    "\n",
    "    input(\"👁 Pulsa Enter para cerrar el navegador...\")\n",
    "    driver.quit()\n",
    "    return pd.DataFrame(datos)\n"
   ]
  },
  {
   "cell_type": "code",
   "execution_count": 10,
   "id": "2e1eabd7",
   "metadata": {},
   "outputs": [
    {
     "name": "stdout",
     "output_type": "stream",
     "text": [
      "⚠️ No se encontró la tabla dentro del tiempo de espera.\n",
      "Empty DataFrame\n",
      "Columns: [fecha, precio, ciudad]\n",
      "Index: []\n"
     ]
    }
   ],
   "source": [
    "url = \"https://www.idealista.com/sala-de-prensa/informes-precio-vivienda/alquiler/cataluna/barcelona-provincia/barcelona/historico/\"\n",
    "df = extraer_precios_con_selenium(url, \"Barcelona\")\n",
    "print(df.head())\n"
   ]
  },
  {
   "cell_type": "code",
   "execution_count": null,
   "id": "d428f240",
   "metadata": {},
   "outputs": [],
   "source": []
  }
 ],
 "metadata": {
  "kernelspec": {
   "display_name": "Python (social_data)",
   "language": "python",
   "name": "social_data"
  },
  "language_info": {
   "codemirror_mode": {
    "name": "ipython",
    "version": 3
   },
   "file_extension": ".py",
   "mimetype": "text/x-python",
   "name": "python",
   "nbconvert_exporter": "python",
   "pygments_lexer": "ipython3",
   "version": "3.13.0"
  }
 },
 "nbformat": 4,
 "nbformat_minor": 5
}
