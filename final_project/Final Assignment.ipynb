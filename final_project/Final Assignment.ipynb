{
 "cells": [
  {
   "cell_type": "markdown",
   "id": "7093825f",
   "metadata": {},
   "source": [
    "# Project Assignment B: \"The Viz and the Notebook\""
   ]
  },
  {
   "cell_type": "markdown",
   "id": "bd17804f",
   "metadata": {},
   "source": [
    "This is the notebook by Raquel Chaves, Alba Pi, and Silvia Gonzalez for the second part of the assignment.\n",
    "\n",
    "#### Outline\n",
    "\n",
    "**1. Motivation**  \n",
    "**2. Basic Statistics & EDA**  \n",
    "**3. Data Analysis**  \n",
    "**4. Storytelling Choices**  \n",
    "**5. Visualizations**  \n",
    "**6. Discussion & Critique**  \n",
    "**7. Contributions**\n"
   ]
  },
  {
   "cell_type": "markdown",
   "id": "5223dfae",
   "metadata": {},
   "source": [
    "## 1. Motivation\n",
    "- **What is your dataset?**  \n",
    "- **Why did you choose this/these particular dataset(s)?**  \n",
    "- **What was your goal for the end user's experience?**  \n",
    "---"
   ]
  },
  {
   "cell_type": "markdown",
   "id": "93731162",
   "metadata": {},
   "source": [
    "- **What is your dataset?**  \n",
    "    Our dataset includes information on tourist accommodations in four of Spain’s most visited provinces. It contains details such as the type of accommodation, the accommodation’s name, the owner’s contact information, address, and more. In some of the datasets, we also have the registration dates of these accommodations in the official registries of their respective autonomous communities. This first dataset comprises all officially registered accommodations in the Community of Madrid, the Valencian Community, Catalonia, and Mallorca.\n",
    "    The second dataset we used is Airbnb data on tourist accommodations for these same autonomous communities. This will allow us to broadly compare officially registered versus unregistered accommodations.Airbnb listings must be officially registered in the autonomous communities’ tourism registries.\n",
    "\n",
    "- **Why did you choose these particular datasets?**  \n",
    "    Tourist apartments are currently not especially regulated. However, after many discussions and complaints from citizens, a law was approved this year requiring owners to register with the corresponding autonomous community registry, thereby obtaining a code that the platform will verify and display in the listings to ensure the rental is legal and legitimate. If an Airbnb listing lacks a registration number, it will not be allowed to remain published once the regulation is fully in force on July 1, 2025. The law came into effect on January 2, 2025, although its full and mandatory application for listing on digital platforms will begin on July 1, 2025. With this work, we aim to demonstrate the need for this law and to observe, prior to its mandatory application, how many accommodations comply with it. Our data were downloaded on April 3, 2025.\n",
    "\n",
    "    We chose these datasets because the autonomous communities make their official tourism registries publicly available, and the Airbnb data were downloaded directly from the platform. It would be interesting to include data from other booking sites such as Booking.com, but unfortunately those are not publicly accessible.\n",
    "    \n",
    "    We also have housing price data sourced from Idealista, Spain’s leading real estate portal. With this, we will demonstrate the correlation between the growth in the number of tourist apartments and the rise in housing prices.\n",
    "\n",
    "- **What was your goal for the end user's experience?**  \n",
    "What we aim to achieve with this is for the user to step into the shoes of the problem, to “travel” through the data and explore the similarities between these autonomous communities. We also want to highlight the issue Spanish citizens face with rising rental-housing prices due to the low supply of apartments, houses, and flats for living—many of which are being used for tourism. Obviously, the housing problem is not solely a consequence of tourism, but it is one of the reasons, since property owners earn higher profits by renting apartments short-term through these platforms than by leasing them long-term."
   ]
  },
  {
   "cell_type": "markdown",
   "id": "8e57cf8b",
   "metadata": {},
   "source": [
    "## 2. Basic Statistics & EDA\n",
    "1. **Data Cleaning & Preprocessing**  \n",
    "2. **Key Dataset Stats**  \n",
    "3. **Exploratory Plots** \n",
    "\n",
    "---"
   ]
  },
  {
   "cell_type": "code",
   "execution_count": null,
   "id": "bf2e35dd",
   "metadata": {},
   "outputs": [],
   "source": []
  },
  {
   "cell_type": "markdown",
   "id": "80adc415",
   "metadata": {},
   "source": [
    "\n",
    "## 3. Data Analysis\n",
    "- **Descriptive Findings**  \n",
    "- **Predictive Modeling** \n",
    "\n",
    "---"
   ]
  },
  {
   "cell_type": "code",
   "execution_count": null,
   "id": "bf1fddd7",
   "metadata": {},
   "outputs": [],
   "source": []
  },
  {
   "cell_type": "markdown",
   "id": "51a00988",
   "metadata": {},
   "source": [
    "## 4. Storytelling Choices\n",
    "1. **Genre of Data Story**  \n",
    "2. **Visual Narrative Tools** \n",
    "3. **Narrative Structure Tools** \n",
    "\n",
    "---"
   ]
  },
  {
   "cell_type": "code",
   "execution_count": null,
   "id": "89e35ea6",
   "metadata": {},
   "outputs": [],
   "source": []
  },
  {
   "cell_type": "markdown",
   "id": "9e164cfb",
   "metadata": {},
   "source": [
    "## 5. Visualizations\n",
    "- **Chosen Charts**    \n",
    "- **Story Fit**  \n",
    "\n",
    "---"
   ]
  },
  {
   "cell_type": "code",
   "execution_count": null,
   "id": "eb5d6bba",
   "metadata": {},
   "outputs": [],
   "source": []
  },
  {
   "cell_type": "markdown",
   "id": "9ac2e687",
   "metadata": {},
   "source": [
    "## 6. Discussion & Critique\n",
    "- **What Went Well**  \n",
    "- **Limitations & Next Steps**  \n",
    "- **Opportunities for Improvement**  \n",
    "---"
   ]
  },
  {
   "cell_type": "markdown",
   "id": "7f06ecf1",
   "metadata": {},
   "source": [
    "## 7. Contributions\n",
    "| Team Member       | Responsibilities                                 |\n",
    "|-------------------|--------------------------------------------------|\n",
    "| Raquel Chaves     | XXXXXXXXXXXXXXXXXXXXXXXXXXXXXXXXXXXXXXXXXXXXXXXXX|\n",
    "| Alba Pi           | XXXXXXXXXXXXXXXXXXXXXXXXXXXXXXXXXXXXXXXXXXXXXXXXX|\n",
    "| Silvia González   | XXXXXXXXXXXXXXXXXXXXXXXXXXXXXXXXXXXXXXXXXXXXXXXXX|"
   ]
  }
 ],
 "metadata": {
  "kernelspec": {
   "display_name": "Python 3",
   "language": "python",
   "name": "python3"
  },
  "language_info": {
   "codemirror_mode": {
    "name": "ipython",
    "version": 3
   },
   "file_extension": ".py",
   "mimetype": "text/x-python",
   "name": "python",
   "nbconvert_exporter": "python",
   "pygments_lexer": "ipython3",
   "version": "3.11.9"
  }
 },
 "nbformat": 4,
 "nbformat_minor": 5
}
